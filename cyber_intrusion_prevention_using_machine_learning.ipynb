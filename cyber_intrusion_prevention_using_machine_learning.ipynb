{
  "cells": [
    {
      "cell_type": "code",
      "source": [
        "import pandas as pd\n",
        "\n",
        "import numpy as np\n",
        "\n",
        "import matplotlib\n",
        "\n",
        "import matplotlib.pyplot as plt\n",
        "%matplotlib inline\n",
        "\n",
        "import seaborn as sns\n",
        "\n",
        "from collections import Counter"
      ],
      "metadata": {
        "id": "bi9WOXPUTWWn"
      },
      "execution_count": 1,
      "outputs": []
    },
    {
      "cell_type": "code",
      "source": [
        "pd.set_option('display.max_rows', 5000)\n",
        "pd.set_option('display.max_columns', 5000)\n",
        "pd.set_option('display.width', 5000)"
      ],
      "metadata": {
        "id": "NJAFrg_zUrFQ"
      },
      "execution_count": 2,
      "outputs": []
    },
    {
      "cell_type": "code",
      "source": [
        "pip install joblib"
      ],
      "metadata": {
        "colab": {
          "base_uri": "https://localhost:8080/"
        },
        "id": "59Xi9AlUX0m7",
        "outputId": "750070aa-b50a-43be-b8f3-43a4280b88c1"
      },
      "execution_count": 4,
      "outputs": [
        {
          "output_type": "stream",
          "name": "stdout",
          "text": [
            "Looking in indexes: https://pypi.org/simple, https://us-python.pkg.dev/colab-wheels/public/simple/\n",
            "Requirement already satisfied: joblib in /usr/local/lib/python3.7/dist-packages (1.1.0)\n"
          ]
        }
      ]
    },
    {
      "cell_type": "code",
      "source": [
        "from sklearn import datasets\n",
        "\n",
        "from sklearn.model_selection import train_test_split\n",
        "\n",
        "from sklearn.metrics import confusion_matrix\n",
        "\n",
        "from sklearn.metrics import classification_report\n",
        "\n",
        "import sklearn.metrics as metrics\n",
        "\n",
        "from sklearn.preprocessing import MinMaxScaler\n",
        "\n",
        "from sklearn.preprocessing import StandardScaler\n",
        "\n",
        "from sklearn import preprocessing\n",
        "\n",
        "le = preprocessing.LabelEncoder()\n",
        "\n",
        "from sklearn.metrics import precision_score\n",
        "\n",
        "from sklearn.metrics import f1_score\n",
        "\n",
        "from sklearn.metrics import recall_score\n",
        "\n",
        "\n",
        "\n",
        "from sklearn.tree import export_graphviz"
      ],
      "metadata": {
        "id": "pWdpPlCuUrvz"
      },
      "execution_count": 6,
      "outputs": []
    },
    {
      "cell_type": "code",
      "source": [
        "from sklearn.ensemble import RandomForestClassifier\n",
        "\n",
        "from sklearn.datasets import make_classification\n",
        "\n",
        "from sklearn.ensemble import BaggingClassifier\n",
        "\n",
        "from sklearn.ensemble import AdaBoostClassifier\n",
        "\n",
        "from sklearn.ensemble import GradientBoostingClassifier"
      ],
      "metadata": {
        "id": "XbW36DUCUurh"
      },
      "execution_count": 7,
      "outputs": []
    },
    {
      "cell_type": "code",
      "source": [
        "filepath0 = \"main_88000.csv\""
      ],
      "metadata": {
        "id": "QAgRI9UpUzGU"
      },
      "execution_count": 8,
      "outputs": []
    },
    {
      "cell_type": "code",
      "source": [
        "data0 = pd.read_csv(filepath0)\n",
        "frame = data0"
      ],
      "metadata": {
        "id": "vvEXNyp9U06p"
      },
      "execution_count": 9,
      "outputs": []
    },
    {
      "cell_type": "code",
      "source": [
        "X = frame.drop([\" Label\"],axis=1)\n",
        "Y = frame[\" Label\"]"
      ],
      "metadata": {
        "id": "pveeAgGKU1fb"
      },
      "execution_count": 10,
      "outputs": []
    },
    {
      "cell_type": "code",
      "source": [
        "counter = Counter(Y)\n",
        "\n",
        "for a, b in counter.items():\n",
        "  dist = b/len(Y) * 100\n",
        "  # print (f\"Label={a},\\t\\t\\t\\t n={b} ({dist}%)\")\n",
        "  print (f\"n={b} ({dist:.3f}%), \\t Label={a}\")"
      ],
      "metadata": {
        "id": "EiTOx_mfU7rf",
        "colab": {
          "base_uri": "https://localhost:8080/"
        },
        "outputId": "430c2dec-8a5c-4e34-9a65-77071f317b37"
      },
      "execution_count": 11,
      "outputs": [
        {
          "output_type": "stream",
          "name": "stdout",
          "text": [
            "n=30000 (34.091%), \t Label=BENIGN\n",
            "n=19500 (22.159%), \t Label=DDoS/Dos\n",
            "n=15000 (17.045%), \t Label=PortScan\n",
            "n=8000 (9.091%), \t Label=Brute Force\n",
            "n=4000 (4.545%), \t Label=Bot\n",
            "n=7500 (8.523%), \t Label=Web Attacks\n",
            "n=4000 (4.545%), \t Label=Infiltration\n"
          ]
        }
      ]
    },
    {
      "cell_type": "code",
      "source": [
        "scaler = StandardScaler()"
      ],
      "metadata": {
        "id": "OtrgbYHgU9co"
      },
      "execution_count": 12,
      "outputs": []
    },
    {
      "cell_type": "code",
      "source": [
        "columns = X.columns"
      ],
      "metadata": {
        "id": "btVX5jGuU-qR"
      },
      "execution_count": 13,
      "outputs": []
    },
    {
      "cell_type": "code",
      "source": [
        "X_std = scaler.fit_transform(X)"
      ],
      "metadata": {
        "id": "jhvX_qviU-36"
      },
      "execution_count": 14,
      "outputs": []
    },
    {
      "cell_type": "code",
      "source": [
        "X_std = pd.DataFrame(X_std, columns = columns)"
      ],
      "metadata": {
        "id": "4FeHXXT_U_ED"
      },
      "execution_count": 15,
      "outputs": []
    },
    {
      "cell_type": "code",
      "source": [
        "X_train, X_test, y_train, y_test = train_test_split(X_std, Y, test_size=0.3, random_state=101)"
      ],
      "metadata": {
        "id": "Vdtgf1WTU_Pb"
      },
      "execution_count": 16,
      "outputs": []
    },
    {
      "cell_type": "code",
      "source": [
        "X_train.shape, X_test.shape, y_train.shape, y_test.shape"
      ],
      "metadata": {
        "id": "eaMSBArQU_ax",
        "colab": {
          "base_uri": "https://localhost:8080/"
        },
        "outputId": "705f5f70-3482-4acb-af29-53f6a530b9ac"
      },
      "execution_count": 17,
      "outputs": [
        {
          "output_type": "execute_result",
          "data": {
            "text/plain": [
              "((61600, 36), (26400, 36), (61600,), (26400,))"
            ]
          },
          "metadata": {},
          "execution_count": 17
        }
      ]
    },
    {
      "cell_type": "code",
      "source": [
        "rf = RandomForestClassifier(max_depth=5, random_state=0)\n",
        "# 6"
      ],
      "metadata": {
        "id": "GCh3K0jcVOW-"
      },
      "execution_count": 18,
      "outputs": []
    },
    {
      "cell_type": "code",
      "source": [
        "rf.fit(X_train, y_train)"
      ],
      "metadata": {
        "id": "kSgadIY2VQbt",
        "colab": {
          "base_uri": "https://localhost:8080/"
        },
        "outputId": "5cdcfacf-ea4b-49bf-87c7-4c2a633404f1"
      },
      "execution_count": 19,
      "outputs": [
        {
          "output_type": "execute_result",
          "data": {
            "text/plain": [
              "RandomForestClassifier(max_depth=5, random_state=0)"
            ]
          },
          "metadata": {},
          "execution_count": 19
        }
      ]
    },
    {
      "cell_type": "code",
      "source": [
        "rf_predictions = rf.predict(X_test)"
      ],
      "metadata": {
        "id": "ot1owZDnVS2q"
      },
      "execution_count": 20,
      "outputs": []
    },
    {
      "cell_type": "code",
      "source": [
        "rf_predictions"
      ],
      "metadata": {
        "id": "whO0hxHTVWOK",
        "colab": {
          "base_uri": "https://localhost:8080/"
        },
        "outputId": "61dfa2b8-181b-438f-c7e7-ebe4689fddaa"
      },
      "execution_count": 21,
      "outputs": [
        {
          "output_type": "execute_result",
          "data": {
            "text/plain": [
              "array(['Brute Force', 'BENIGN', 'PortScan', ..., 'BENIGN', 'DDoS/Dos',\n",
              "       'PortScan'], dtype=object)"
            ]
          },
          "metadata": {},
          "execution_count": 21
        }
      ]
    },
    {
      "cell_type": "code",
      "source": [
        "print(confusion_matrix(y_test, rf_predictions))"
      ],
      "metadata": {
        "id": "rjAYx44-VYjW",
        "colab": {
          "base_uri": "https://localhost:8080/"
        },
        "outputId": "107a77cb-83ba-4111-a5ce-aff6304c8e4e"
      },
      "execution_count": 22,
      "outputs": [
        {
          "output_type": "stream",
          "name": "stdout",
          "text": [
            "[[8994    0    0    0    0    0    0]\n",
            " [   0 1242    0    0    0    0    1]\n",
            " [   0    0 2406    0    0    0    0]\n",
            " [   1    1    0 5905    0    0    0]\n",
            " [   0    0    0    0 1167    0    0]\n",
            " [   0    0    0   17    0 4442    0]\n",
            " [   0    0    0    5    0    0 2219]]\n"
          ]
        }
      ]
    },
    {
      "cell_type": "code",
      "source": [
        "print(classification_report(y_test, rf_predictions))"
      ],
      "metadata": {
        "id": "MEI2Zhc7Vbkk",
        "colab": {
          "base_uri": "https://localhost:8080/"
        },
        "outputId": "1fb1dc5c-abf7-421b-8e31-acb1f5c2a690"
      },
      "execution_count": 23,
      "outputs": [
        {
          "output_type": "stream",
          "name": "stdout",
          "text": [
            "              precision    recall  f1-score   support\n",
            "\n",
            "      BENIGN       1.00      1.00      1.00      8994\n",
            "         Bot       1.00      1.00      1.00      1243\n",
            " Brute Force       1.00      1.00      1.00      2406\n",
            "    DDoS/Dos       1.00      1.00      1.00      5907\n",
            "Infiltration       1.00      1.00      1.00      1167\n",
            "    PortScan       1.00      1.00      1.00      4459\n",
            " Web Attacks       1.00      1.00      1.00      2224\n",
            "\n",
            "    accuracy                           1.00     26400\n",
            "   macro avg       1.00      1.00      1.00     26400\n",
            "weighted avg       1.00      1.00      1.00     26400\n",
            "\n"
          ]
        }
      ]
    },
    {
      "cell_type": "code",
      "source": [
        "rf.score(X_test, y_test)"
      ],
      "metadata": {
        "id": "4OYpZOvUVdlk",
        "colab": {
          "base_uri": "https://localhost:8080/"
        },
        "outputId": "e4b5cd92-a0ff-49aa-9202-fb98aeee5729"
      },
      "execution_count": 24,
      "outputs": [
        {
          "output_type": "execute_result",
          "data": {
            "text/plain": [
              "0.9990530303030303"
            ]
          },
          "metadata": {},
          "execution_count": 24
        }
      ]
    },
    {
      "cell_type": "code",
      "source": [
        "boostin = AdaBoostClassifier(RandomForestClassifier(), n_estimators=5, learning_rate = 1)\n",
        "# boostin = GradientBoostingClassifier(RandomForestClassifier(), n_estimators=5 )\n",
        "boostin.fit(X_train, y_train)"
      ],
      "metadata": {
        "id": "5MEZbjo6VgQJ",
        "colab": {
          "base_uri": "https://localhost:8080/"
        },
        "outputId": "11398d25-ac40-4a3a-96df-0f04f5a2a9e7"
      },
      "execution_count": 25,
      "outputs": [
        {
          "output_type": "execute_result",
          "data": {
            "text/plain": [
              "AdaBoostClassifier(base_estimator=RandomForestClassifier(), learning_rate=1,\n",
              "                   n_estimators=5)"
            ]
          },
          "metadata": {},
          "execution_count": 25
        }
      ]
    },
    {
      "cell_type": "code",
      "source": [
        "boostin.score(X_test, y_test)"
      ],
      "metadata": {
        "id": "LDCmMEg5ViM4",
        "colab": {
          "base_uri": "https://localhost:8080/"
        },
        "outputId": "b3782799-e450-4a78-f341-fa286f80f39b"
      },
      "execution_count": 26,
      "outputs": [
        {
          "output_type": "execute_result",
          "data": {
            "text/plain": [
              "0.9998484848484849"
            ]
          },
          "metadata": {},
          "execution_count": 26
        }
      ]
    },
    {
      "cell_type": "code",
      "source": [
        "boostin_predictions = boostin.predict(X_test)\n",
        "print(classification_report(y_test, rf_predictions))"
      ],
      "metadata": {
        "id": "VRszUymFVkTz",
        "colab": {
          "base_uri": "https://localhost:8080/"
        },
        "outputId": "ea4da6f1-814a-4d58-b564-9c41f5adbdd3"
      },
      "execution_count": 27,
      "outputs": [
        {
          "output_type": "stream",
          "name": "stdout",
          "text": [
            "              precision    recall  f1-score   support\n",
            "\n",
            "      BENIGN       1.00      1.00      1.00      8994\n",
            "         Bot       1.00      1.00      1.00      1243\n",
            " Brute Force       1.00      1.00      1.00      2406\n",
            "    DDoS/Dos       1.00      1.00      1.00      5907\n",
            "Infiltration       1.00      1.00      1.00      1167\n",
            "    PortScan       1.00      1.00      1.00      4459\n",
            " Web Attacks       1.00      1.00      1.00      2224\n",
            "\n",
            "    accuracy                           1.00     26400\n",
            "   macro avg       1.00      1.00      1.00     26400\n",
            "weighted avg       1.00      1.00      1.00     26400\n",
            "\n"
          ]
        }
      ]
    }
  ],
  "metadata": {
    "colab": {
      "collapsed_sections": [],
      "provenance": []
    },
    "kernelspec": {
      "display_name": "Python 3",
      "name": "python3"
    }
  },
  "nbformat": 4,
  "nbformat_minor": 0
}